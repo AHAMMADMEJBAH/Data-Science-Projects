{
 "cells": [
  {
   "cell_type": "code",
   "execution_count": 2,
   "id": "indian-giant",
   "metadata": {},
   "outputs": [],
   "source": [
    "%config Completer.use_jedi = False"
   ]
  },
  {
   "cell_type": "code",
   "execution_count": 5,
   "id": "according-pavilion",
   "metadata": {},
   "outputs": [],
   "source": [
    "from IPython.core.interactiveshell import InteractiveShell\n",
    "InteractiveShell.ast_node_interactivity = \"all\""
   ]
  },
  {
   "cell_type": "code",
   "execution_count": 10,
   "id": "noted-genome",
   "metadata": {},
   "outputs": [],
   "source": [
    "#Import Libraries\n",
    "import pandas as pd\n",
    "import numpy as np\n",
    "import networkx as nx\n",
    "import matplotlib.pyplot as plt\n",
    "%matplotlib inline"
   ]
  },
  {
   "cell_type": "code",
   "execution_count": 7,
   "id": "preceding-airport",
   "metadata": {},
   "outputs": [],
   "source": [
    "datasets = pd.read_csv(\"Network_Analysis/book1.csv\")"
   ]
  },
  {
   "cell_type": "code",
   "execution_count": 8,
   "id": "chubby-assembly",
   "metadata": {},
   "outputs": [
    {
     "data": {
      "text/html": [
       "<div>\n",
       "<style scoped>\n",
       "    .dataframe tbody tr th:only-of-type {\n",
       "        vertical-align: middle;\n",
       "    }\n",
       "\n",
       "    .dataframe tbody tr th {\n",
       "        vertical-align: top;\n",
       "    }\n",
       "\n",
       "    .dataframe thead th {\n",
       "        text-align: right;\n",
       "    }\n",
       "</style>\n",
       "<table border=\"1\" class=\"dataframe\">\n",
       "  <thead>\n",
       "    <tr style=\"text-align: right;\">\n",
       "      <th></th>\n",
       "      <th>Source</th>\n",
       "      <th>Target</th>\n",
       "      <th>Type</th>\n",
       "      <th>weight</th>\n",
       "      <th>book</th>\n",
       "    </tr>\n",
       "  </thead>\n",
       "  <tbody>\n",
       "    <tr>\n",
       "      <th>0</th>\n",
       "      <td>Addam-Marbrand</td>\n",
       "      <td>Jaime-Lannister</td>\n",
       "      <td>Undirected</td>\n",
       "      <td>3</td>\n",
       "      <td>1</td>\n",
       "    </tr>\n",
       "    <tr>\n",
       "      <th>1</th>\n",
       "      <td>Addam-Marbrand</td>\n",
       "      <td>Tywin-Lannister</td>\n",
       "      <td>Undirected</td>\n",
       "      <td>6</td>\n",
       "      <td>1</td>\n",
       "    </tr>\n",
       "    <tr>\n",
       "      <th>2</th>\n",
       "      <td>Aegon-I-Targaryen</td>\n",
       "      <td>Daenerys-Targaryen</td>\n",
       "      <td>Undirected</td>\n",
       "      <td>5</td>\n",
       "      <td>1</td>\n",
       "    </tr>\n",
       "    <tr>\n",
       "      <th>3</th>\n",
       "      <td>Aegon-I-Targaryen</td>\n",
       "      <td>Eddard-Stark</td>\n",
       "      <td>Undirected</td>\n",
       "      <td>4</td>\n",
       "      <td>1</td>\n",
       "    </tr>\n",
       "    <tr>\n",
       "      <th>4</th>\n",
       "      <td>Aemon-Targaryen-(Maester-Aemon)</td>\n",
       "      <td>Alliser-Thorne</td>\n",
       "      <td>Undirected</td>\n",
       "      <td>4</td>\n",
       "      <td>1</td>\n",
       "    </tr>\n",
       "  </tbody>\n",
       "</table>\n",
       "</div>"
      ],
      "text/plain": [
       "                            Source              Target        Type  weight  \\\n",
       "0                   Addam-Marbrand     Jaime-Lannister  Undirected       3   \n",
       "1                   Addam-Marbrand     Tywin-Lannister  Undirected       6   \n",
       "2                Aegon-I-Targaryen  Daenerys-Targaryen  Undirected       5   \n",
       "3                Aegon-I-Targaryen        Eddard-Stark  Undirected       4   \n",
       "4  Aemon-Targaryen-(Maester-Aemon)      Alliser-Thorne  Undirected       4   \n",
       "\n",
       "   book  \n",
       "0     1  \n",
       "1     1  \n",
       "2     1  \n",
       "3     1  \n",
       "4     1  "
      ]
     },
     "execution_count": 8,
     "metadata": {},
     "output_type": "execute_result"
    }
   ],
   "source": [
    "datasets.head()"
   ]
  },
  {
   "cell_type": "code",
   "execution_count": 12,
   "id": "civilian-companion",
   "metadata": {},
   "outputs": [],
   "source": [
    "#Create an Empty Graphs\n",
    "Graphs_book1 = nx.Graph()"
   ]
  },
  {
   "cell_type": "code",
   "execution_count": 15,
   "id": "basic-beast",
   "metadata": {},
   "outputs": [],
   "source": [
    "for _, edge in datasets.iterrows():\n",
    "    Graphs_book1.add_edge(edge['Source'], edge['Target'], weight=edge['weight'])"
   ]
  },
  {
   "cell_type": "code",
   "execution_count": 26,
   "id": "maritime-sociology",
   "metadata": {},
   "outputs": [],
   "source": [
    "books = [Graphs_book1]\n",
    "book_fnames = ['Network_Analysis/book2.csv', 'Network_Analysis/book3.csv', 'Network_Analysis/book4.csv', 'Network_Analysis/book5.csv']"
   ]
  },
  {
   "cell_type": "code",
   "execution_count": 27,
   "id": "reported-declaration",
   "metadata": {},
   "outputs": [],
   "source": [
    "for book_fname in book_fnames:\n",
    "    book = pd.read_csv(book_fname)\n",
    "    G_book = nx.Graph()\n",
    "    for _, edge in book.iterrows():\n",
    "        G_book.add_edge(edge['Source'], edge['Target'], weight=edge['weight'])\n",
    "        books.append(G_book)"
   ]
  },
  {
   "cell_type": "code",
   "execution_count": 30,
   "id": "infinite-shareware",
   "metadata": {},
   "outputs": [],
   "source": [
    "degree_centerlity_book1 = nx.degree_centrality(books[0])\n",
    "degree_centerlity_book5 = nx.degree_centrality(books[4])"
   ]
  },
  {
   "cell_type": "code",
   "execution_count": 31,
   "id": "increased-treasure",
   "metadata": {},
   "outputs": [],
   "source": [
    "sorted_degree_centrality_book1 = sorted(degree_centerlity_book1.items(), key = lambda x:x[1], reverse = True)[0:10]\n",
    "sorted_degree_centrality_book5 = sorted(degree_centerlity_book5.items(), key = lambda x:x[1], reverse = True)[0:10]"
   ]
  },
  {
   "cell_type": "code",
   "execution_count": 32,
   "id": "interracial-warning",
   "metadata": {},
   "outputs": [
    {
     "name": "stdout",
     "output_type": "stream",
     "text": [
      "Book 1 [('Eddard-Stark', 0.3548387096774194), ('Robert-Baratheon', 0.2688172043010753), ('Tyrion-Lannister', 0.24731182795698928), ('Catelyn-Stark', 0.23118279569892475), ('Jon-Snow', 0.19892473118279572), ('Robb-Stark', 0.18817204301075272), ('Sansa-Stark', 0.18817204301075272), ('Bran-Stark', 0.17204301075268819), ('Cersei-Lannister', 0.16129032258064518), ('Joffrey-Baratheon', 0.16129032258064518)]\n",
      "Book 5 [('Tyrion-Lannister', 0.2054263565891473), ('Joffrey-Baratheon', 0.1821705426356589), ('Cersei-Lannister', 0.16666666666666666), ('Arya-Stark', 0.15503875968992248), ('Stannis-Baratheon', 0.1434108527131783), ('Robb-Stark', 0.13565891472868216), ('Catelyn-Stark', 0.12790697674418605), ('Theon-Greyjoy', 0.12403100775193798), ('Renly-Baratheon', 0.12015503875968991), ('Bran-Stark', 0.11627906976744186)]\n"
     ]
    }
   ],
   "source": [
    "print(\"Book 1\", sorted_degree_centrality_book1)\n",
    "print(\"Book 5\", sorted_degree_centrality_book5)"
   ]
  },
  {
   "cell_type": "code",
   "execution_count": 34,
   "id": "sound-greece",
   "metadata": {},
   "outputs": [
    {
     "data": {
      "text/plain": [
       "<AxesSubplot:>"
      ]
     },
     "execution_count": 34,
     "metadata": {},
     "output_type": "execute_result"
    },
    {
     "data": {
      "image/png": "[encoded data removed]",
      "text/plain": [
       "<Figure size 432x288 with 1 Axes>"
      ]
     },
     "metadata": {
      "needs_background": "light"
     },
     "output_type": "display_data"
    }
   ],
   "source": [
    "evol = [nx.degree_centrality(book) for book in books]\n",
    "degree_evol_df = pd.DataFrame.from_records(evol)\n",
    "degree_evol_df[['Eddard-Stark', 'Tyrion-Lannister', 'Jon-Snow']].plot()"
   ]
  },
  {
   "cell_type": "code",
   "execution_count": 35,
   "id": "after-recipient",
   "metadata": {},
   "outputs": [
    {
     "data": {
      "text/html": [
       "<div>\n",
       "<style scoped>\n",
       "    .dataframe tbody tr th:only-of-type {\n",
       "        vertical-align: middle;\n",
       "    }\n",
       "\n",
       "    .dataframe tbody tr th {\n",
       "        vertical-align: top;\n",
       "    }\n",
       "\n",
       "    .dataframe thead th {\n",
       "        text-align: right;\n",
       "    }\n",
       "</style>\n",
       "<table border=\"1\" class=\"dataframe\">\n",
       "  <thead>\n",
       "    <tr style=\"text-align: right;\">\n",
       "      <th></th>\n",
       "      <th>Addam-Marbrand</th>\n",
       "      <th>Jaime-Lannister</th>\n",
       "      <th>Tywin-Lannister</th>\n",
       "      <th>Aegon-I-Targaryen</th>\n",
       "      <th>Daenerys-Targaryen</th>\n",
       "      <th>Eddard-Stark</th>\n",
       "      <th>Aemon-Targaryen-(Maester-Aemon)</th>\n",
       "      <th>Alliser-Thorne</th>\n",
       "      <th>Bowen-Marsh</th>\n",
       "      <th>Chett</th>\n",
       "      <th>...</th>\n",
       "      <th>Yellow-Dick</th>\n",
       "      <th>Walda-Frey-(daughter-of-Merrett)</th>\n",
       "      <th>Roose-Ryswell</th>\n",
       "      <th>Scar</th>\n",
       "      <th>Shrouded-Lord</th>\n",
       "      <th>Theomore</th>\n",
       "      <th>William-Foxglove</th>\n",
       "      <th>Willow-Witch-eye</th>\n",
       "      <th>Thistle</th>\n",
       "      <th>Wulfe</th>\n",
       "    </tr>\n",
       "  </thead>\n",
       "  <tbody>\n",
       "    <tr>\n",
       "      <th>0</th>\n",
       "      <td>0.010753</td>\n",
       "      <td>0.155914</td>\n",
       "      <td>0.118280</td>\n",
       "      <td>0.010753</td>\n",
       "      <td>0.112903</td>\n",
       "      <td>0.354839</td>\n",
       "      <td>0.037634</td>\n",
       "      <td>0.053763</td>\n",
       "      <td>0.026882</td>\n",
       "      <td>0.016129</td>\n",
       "      <td>...</td>\n",
       "      <td>NaN</td>\n",
       "      <td>NaN</td>\n",
       "      <td>NaN</td>\n",
       "      <td>NaN</td>\n",
       "      <td>NaN</td>\n",
       "      <td>NaN</td>\n",
       "      <td>NaN</td>\n",
       "      <td>NaN</td>\n",
       "      <td>NaN</td>\n",
       "      <td>NaN</td>\n",
       "    </tr>\n",
       "    <tr>\n",
       "      <th>1</th>\n",
       "      <td>NaN</td>\n",
       "      <td>0.081395</td>\n",
       "      <td>0.065891</td>\n",
       "      <td>0.019380</td>\n",
       "      <td>0.069767</td>\n",
       "      <td>0.085271</td>\n",
       "      <td>0.023256</td>\n",
       "      <td>0.015504</td>\n",
       "      <td>NaN</td>\n",
       "      <td>0.003876</td>\n",
       "      <td>...</td>\n",
       "      <td>NaN</td>\n",
       "      <td>NaN</td>\n",
       "      <td>NaN</td>\n",
       "      <td>NaN</td>\n",
       "      <td>NaN</td>\n",
       "      <td>NaN</td>\n",
       "      <td>NaN</td>\n",
       "      <td>NaN</td>\n",
       "      <td>NaN</td>\n",
       "      <td>NaN</td>\n",
       "    </tr>\n",
       "    <tr>\n",
       "      <th>2</th>\n",
       "      <td>NaN</td>\n",
       "      <td>0.081395</td>\n",
       "      <td>0.065891</td>\n",
       "      <td>0.019380</td>\n",
       "      <td>0.069767</td>\n",
       "      <td>0.085271</td>\n",
       "      <td>0.023256</td>\n",
       "      <td>0.015504</td>\n",
       "      <td>NaN</td>\n",
       "      <td>0.003876</td>\n",
       "      <td>...</td>\n",
       "      <td>NaN</td>\n",
       "      <td>NaN</td>\n",
       "      <td>NaN</td>\n",
       "      <td>NaN</td>\n",
       "      <td>NaN</td>\n",
       "      <td>NaN</td>\n",
       "      <td>NaN</td>\n",
       "      <td>NaN</td>\n",
       "      <td>NaN</td>\n",
       "      <td>NaN</td>\n",
       "    </tr>\n",
       "    <tr>\n",
       "      <th>3</th>\n",
       "      <td>NaN</td>\n",
       "      <td>0.081395</td>\n",
       "      <td>0.065891</td>\n",
       "      <td>0.019380</td>\n",
       "      <td>0.069767</td>\n",
       "      <td>0.085271</td>\n",
       "      <td>0.023256</td>\n",
       "      <td>0.015504</td>\n",
       "      <td>NaN</td>\n",
       "      <td>0.003876</td>\n",
       "      <td>...</td>\n",
       "      <td>NaN</td>\n",
       "      <td>NaN</td>\n",
       "      <td>NaN</td>\n",
       "      <td>NaN</td>\n",
       "      <td>NaN</td>\n",
       "      <td>NaN</td>\n",
       "      <td>NaN</td>\n",
       "      <td>NaN</td>\n",
       "      <td>NaN</td>\n",
       "      <td>NaN</td>\n",
       "    </tr>\n",
       "    <tr>\n",
       "      <th>4</th>\n",
       "      <td>NaN</td>\n",
       "      <td>0.081395</td>\n",
       "      <td>0.065891</td>\n",
       "      <td>0.019380</td>\n",
       "      <td>0.069767</td>\n",
       "      <td>0.085271</td>\n",
       "      <td>0.023256</td>\n",
       "      <td>0.015504</td>\n",
       "      <td>NaN</td>\n",
       "      <td>0.003876</td>\n",
       "      <td>...</td>\n",
       "      <td>NaN</td>\n",
       "      <td>NaN</td>\n",
       "      <td>NaN</td>\n",
       "      <td>NaN</td>\n",
       "      <td>NaN</td>\n",
       "      <td>NaN</td>\n",
       "      <td>NaN</td>\n",
       "      <td>NaN</td>\n",
       "      <td>NaN</td>\n",
       "      <td>NaN</td>\n",
       "    </tr>\n",
       "  </tbody>\n",
       "</table>\n",
       "<p>5 rows × 796 columns</p>\n",
       "</div>"
      ],
      "text/plain": [
       "   Addam-Marbrand  Jaime-Lannister  Tywin-Lannister  Aegon-I-Targaryen  \\\n",
       "0        0.010753         0.155914         0.118280           0.010753   \n",
       "1             NaN         0.081395         0.065891           0.019380   \n",
       "2             NaN         0.081395         0.065891           0.019380   \n",
       "3             NaN         0.081395         0.065891           0.019380   \n",
       "4             NaN         0.081395         0.065891           0.019380   \n",
       "\n",
       "   Daenerys-Targaryen  Eddard-Stark  Aemon-Targaryen-(Maester-Aemon)  \\\n",
       "0            0.112903      0.354839                         0.037634   \n",
       "1            0.069767      0.085271                         0.023256   \n",
       "2            0.069767      0.085271                         0.023256   \n",
       "3            0.069767      0.085271                         0.023256   \n",
       "4            0.069767      0.085271                         0.023256   \n",
       "\n",
       "   Alliser-Thorne  Bowen-Marsh     Chett  ...  Yellow-Dick  \\\n",
       "0        0.053763     0.026882  0.016129  ...          NaN   \n",
       "1        0.015504          NaN  0.003876  ...          NaN   \n",
       "2        0.015504          NaN  0.003876  ...          NaN   \n",
       "3        0.015504          NaN  0.003876  ...          NaN   \n",
       "4        0.015504          NaN  0.003876  ...          NaN   \n",
       "\n",
       "   Walda-Frey-(daughter-of-Merrett)  Roose-Ryswell  Scar  Shrouded-Lord  \\\n",
       "0                               NaN            NaN   NaN            NaN   \n",
       "1                               NaN            NaN   NaN            NaN   \n",
       "2                               NaN            NaN   NaN            NaN   \n",
       "3                               NaN            NaN   NaN            NaN   \n",
       "4                               NaN            NaN   NaN            NaN   \n",
       "\n",
       "   Theomore  William-Foxglove  Willow-Witch-eye  Thistle  Wulfe  \n",
       "0       NaN               NaN               NaN      NaN    NaN  \n",
       "1       NaN               NaN               NaN      NaN    NaN  \n",
       "2       NaN               NaN               NaN      NaN    NaN  \n",
       "3       NaN               NaN               NaN      NaN    NaN  \n",
       "4       NaN               NaN               NaN      NaN    NaN  \n",
       "\n",
       "[5 rows x 796 columns]"
      ]
     },
     "execution_count": 35,
     "metadata": {},
     "output_type": "execute_result"
    }
   ],
   "source": [
    "degree_evol_df.head()"
   ]
  },
  {
   "cell_type": "code",
   "execution_count": 37,
   "id": "light-salmon",
   "metadata": {},
   "outputs": [],
   "source": [
    "evol = [nx.betweenness_centrality(book, weight = 'weight') for book in books]\n",
    "betweensess_evol_df = pd.DataFrame.from_records(evol).fillna(0)"
   ]
  },
  {
   "cell_type": "code",
   "execution_count": 38,
   "id": "correct-yesterday",
   "metadata": {},
   "outputs": [],
   "source": [
    "set_of_char = set()\n",
    "\n",
    "for i in range(5):\n",
    "    set_of_char |= set(list(betweensess_evol_df.T[i].sort_values(ascending = False)[0:4].index))"
   ]
  },
  {
   "cell_type": "code",
   "execution_count": 39,
   "id": "informed-calculator",
   "metadata": {},
   "outputs": [],
   "source": [
    "list_char = list(set_of_char)"
   ]
  },
  {
   "cell_type": "code",
   "execution_count": 41,
   "id": "pacific-cable",
   "metadata": {},
   "outputs": [
    {
     "data": {
      "text/plain": [
       "<AxesSubplot:>"
      ]
     },
     "execution_count": 41,
     "metadata": {},
     "output_type": "execute_result"
    },
    {
     "data": {
      "image/png": "[encoded data removed]",
      "text/plain": [
       "<Figure size 936x504 with 1 Axes>"
      ]
     },
     "metadata": {
      "needs_background": "light"
     },
     "output_type": "display_data"
    }
   ],
   "source": [
    "betweensess_evol_df[list_char].plot(figsize=(13, 7))"
   ]
  },
  {
   "cell_type": "markdown",
   "id": "third-deadline",
   "metadata": {},
   "source": [
    "### Correlations"
   ]
  },
  {
   "cell_type": "code",
   "execution_count": 42,
   "id": "completed-theater",
   "metadata": {},
   "outputs": [],
   "source": [
    "measures = [nx.pagerank(books[4]),\n",
    "           nx.betweenness_centrality(books[4], weight = 'weight'),\n",
    "           nx.degree_centrality(books[4])]"
   ]
  },
  {
   "cell_type": "code",
   "execution_count": 43,
   "id": "headed-softball",
   "metadata": {},
   "outputs": [],
   "source": [
    "corr  = pd.DataFrame.from_records(measures)"
   ]
  },
  {
   "cell_type": "code",
   "execution_count": 44,
   "id": "outside-crest",
   "metadata": {},
   "outputs": [
    {
     "data": {
      "text/html": [
       "<div>\n",
       "<style scoped>\n",
       "    .dataframe tbody tr th:only-of-type {\n",
       "        vertical-align: middle;\n",
       "    }\n",
       "\n",
       "    .dataframe tbody tr th {\n",
       "        vertical-align: top;\n",
       "    }\n",
       "\n",
       "    .dataframe thead th {\n",
       "        text-align: right;\n",
       "    }\n",
       "</style>\n",
       "<table border=\"1\" class=\"dataframe\">\n",
       "  <thead>\n",
       "    <tr style=\"text-align: right;\">\n",
       "      <th></th>\n",
       "      <th>0</th>\n",
       "      <th>1</th>\n",
       "      <th>2</th>\n",
       "    </tr>\n",
       "  </thead>\n",
       "  <tbody>\n",
       "    <tr>\n",
       "      <th>0</th>\n",
       "      <td>1.000000</td>\n",
       "      <td>0.796071</td>\n",
       "      <td>0.946047</td>\n",
       "    </tr>\n",
       "    <tr>\n",
       "      <th>1</th>\n",
       "      <td>0.796071</td>\n",
       "      <td>1.000000</td>\n",
       "      <td>0.824200</td>\n",
       "    </tr>\n",
       "    <tr>\n",
       "      <th>2</th>\n",
       "      <td>0.946047</td>\n",
       "      <td>0.824200</td>\n",
       "      <td>1.000000</td>\n",
       "    </tr>\n",
       "  </tbody>\n",
       "</table>\n",
       "</div>"
      ],
      "text/plain": [
       "          0         1         2\n",
       "0  1.000000  0.796071  0.946047\n",
       "1  0.796071  1.000000  0.824200\n",
       "2  0.946047  0.824200  1.000000"
      ]
     },
     "execution_count": 44,
     "metadata": {},
     "output_type": "execute_result"
    }
   ],
   "source": [
    "corr.T.corr()"
   ]
  },
  {
   "cell_type": "code",
   "execution_count": 46,
   "id": "institutional-overall",
   "metadata": {},
   "outputs": [],
   "source": [
    "p_rank, b_cent, d_cent = corr.idxmax(axis = 1)"
   ]
  },
  {
   "cell_type": "code",
   "execution_count": 47,
   "id": "massive-grill",
   "metadata": {},
   "outputs": [
    {
     "name": "stdout",
     "output_type": "stream",
     "text": [
      "Tyrion-Lannister\n",
      "Jaime-Lannister\n",
      "Tyrion-Lannister\n"
     ]
    }
   ],
   "source": [
    "print(p_rank)\n",
    "print(b_cent)\n",
    "print(d_cent)"
   ]
  },
  {
   "cell_type": "code",
   "execution_count": null,
   "id": "worth-flooring",
   "metadata": {},
   "outputs": [],
   "source": []
  }
 ],
 "metadata": {
  "kernelspec": {
   "display_name": "Python 3",
   "language": "python",
   "name": "python3"
  },
  "language_info": {
   "codemirror_mode": {
    "name": "ipython",
    "version": 3
   },
   "file_extension": ".py",
   "mimetype": "text/x-python",
   "name": "python",
   "nbconvert_exporter": "python",
   "pygments_lexer": "ipython3",
   "version": "3.7.9"
  }
 },
 "nbformat": 4,
 "nbformat_minor": 5
}
